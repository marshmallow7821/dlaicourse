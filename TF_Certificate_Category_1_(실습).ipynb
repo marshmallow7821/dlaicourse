{
  "nbformat": 4,
  "nbformat_minor": 0,
  "metadata": {
    "accelerator": "GPU",
    "colab": {
      "name": "TF Certificate Category 1 (실습)",
      "provenance": [],
      "collapsed_sections": [],
      "include_colab_link": true
    },
    "kernelspec": {
      "display_name": "Python 3",
      "language": "python",
      "name": "python3"
    },
    "language_info": {
      "codemirror_mode": {
        "name": "ipython",
        "version": 3
      },
      "file_extension": ".py",
      "mimetype": "text/x-python",
      "name": "python",
      "nbconvert_exporter": "python",
      "pygments_lexer": "ipython3",
      "version": "3.6.6"
    }
  },
  "cells": [
    {
      "cell_type": "markdown",
      "metadata": {
        "id": "view-in-github",
        "colab_type": "text"
      },
      "source": [
        "<a href=\"https://colab.research.google.com/github/marshmallow7821/dlaicourse/blob/master/TF_Certificate_Category_1_(%EC%8B%A4%EC%8A%B5).ipynb\" target=\"_parent\"><img src=\"https://colab.research.google.com/assets/colab-badge.svg\" alt=\"Open In Colab\"/></a>"
      ]
    },
    {
      "cell_type": "markdown",
      "metadata": {
        "id": "Gbb02j2rl4vU",
        "colab_type": "text"
      },
      "source": [
        "## Category 1"
      ]
    },
    {
      "cell_type": "markdown",
      "metadata": {
        "id": "oES65TCm0AGU",
        "colab_type": "text"
      },
      "source": [
        "## 확인"
      ]
    },
    {
      "cell_type": "markdown",
      "metadata": {
        "id": "fhUH8ElD0CJU",
        "colab_type": "text"
      },
      "source": [
        "1. GPU 옵션 켜져 있는지 확인할 것!!! (수정 - 노트설정 - 하드웨어설정 (GPU))"
      ]
    },
    {
      "cell_type": "markdown",
      "metadata": {
        "id": "SgYGywFazba9",
        "colab_type": "text"
      },
      "source": [
        "## (중요) 딥러닝 문제 해결 순서!!!"
      ]
    },
    {
      "cell_type": "markdown",
      "metadata": {
        "id": "GmK-UteXl4vZ",
        "colab_type": "text"
      },
      "source": [
        "1. **import**: 필요한 모듈 import\n",
        "2. **전처리**: 학습에 필요한 데이터 전처리를 수행합니다.\n",
        "3. **모델링(model)**: 모델을 정의합니다.\n",
        "4. **컴파일(compile)**: 모델을 생성합니다.\n",
        "5. **학습 (fit)**: 모델을 학습시킵니다."
      ]
    },
    {
      "cell_type": "markdown",
      "metadata": {
        "id": "El94_bUf5jCu",
        "colab_type": "text"
      },
      "source": [
        "-----------------------------------------------"
      ]
    },
    {
      "cell_type": "markdown",
      "metadata": {
        "id": "ZZM-Y_Do5ceg",
        "colab_type": "text"
      },
      "source": [
        "# 실습"
      ]
    },
    {
      "cell_type": "markdown",
      "metadata": {
        "id": "lFYgJbl14pki",
        "colab_type": "text"
      },
      "source": [
        "## 문제"
      ]
    },
    {
      "cell_type": "markdown",
      "metadata": {
        "id": "_Zgb1Sqa5BJK",
        "colab_type": "text"
      },
      "source": [
        "주어진 xs, ys 데이터를 활용하여 신경망 네트워크를 훈련시킵니다.<br/>\n",
        "학습한 모델을 기반으로 새로운 X데이터에 대하여 올바른 Y값을 예측하는지 확인합니다.\n",
        "<br/>\n",
        "print(model.predict([10.0])) 를 통해 근사한 예측 값이 나오는지 확인합니다.\n",
        "<br/>"
      ]
    },
    {
      "cell_type": "markdown",
      "metadata": {
        "id": "CRHRcohRl4vV",
        "colab_type": "text"
      },
      "source": [
        "## STEP 1. import"
      ]
    },
    {
      "cell_type": "markdown",
      "metadata": {
        "id": "8WbyuojL1JXz",
        "colab_type": "text"
      },
      "source": [
        "필요한 모듈을 모두 import 합니다."
      ]
    },
    {
      "cell_type": "code",
      "metadata": {
        "id": "Kg9f93c6l4vV",
        "colab_type": "code",
        "colab": {}
      },
      "source": [
        "import numpy as np\n",
        "# import 해주세요 (Sequential, Dense)\n",
        "\n"
      ],
      "execution_count": null,
      "outputs": []
    },
    {
      "cell_type": "markdown",
      "metadata": {
        "id": "_R-Tb16YzkNH",
        "colab_type": "text"
      },
      "source": [
        "## STEP 2. 문제에서 주어진 X, Y 값"
      ]
    },
    {
      "cell_type": "markdown",
      "metadata": {
        "id": "ZjfIEHIJ1MJo",
        "colab_type": "text"
      },
      "source": [
        "Category 1의 경우 문제에서 X, Y 값이 주어집니다. (xs, ys 변수로 주어집니다). 따라서, 별도의 전처리 단계는 필요하지 않습니다."
      ]
    },
    {
      "cell_type": "code",
      "metadata": {
        "id": "BTR0IefbzqI_",
        "colab_type": "code",
        "colab": {}
      },
      "source": [
        "xs = np.array([-1.0, 0.0, 1.0, 2.0, 3.0, 4.0], dtype=float)\n",
        "ys = np.array([5.0, 6.0, 7.0, 8.0, 9.0, 10.0], dtype=float)"
      ],
      "execution_count": null,
      "outputs": []
    },
    {
      "cell_type": "markdown",
      "metadata": {
        "id": "QieYij0bzquQ",
        "colab_type": "text"
      },
      "source": [
        "## STEP 3. 모델 정의 (Sequential)"
      ]
    },
    {
      "cell_type": "markdown",
      "metadata": {
        "id": "Du4MPjrq1aG3",
        "colab_type": "text"
      },
      "source": [
        "Sequential을 활용하여 모델링을 합니다. \n",
        "\n",
        "* 층을 추가로 더 쌓거나, 제거할 수 있지만, 1번 문제에서는 1개의 출력을 가지는 Dense 만 쌓습니다.\n",
        "* input_shape를 지정해 주는 것을 잊지 마세요. (input_shape=[1])"
      ]
    },
    {
      "cell_type": "code",
      "metadata": {
        "id": "NfUULT_4zulB",
        "colab_type": "code",
        "colab": {}
      },
      "source": [
        "# 코드를 입력 하세요\n"
      ],
      "execution_count": null,
      "outputs": []
    },
    {
      "cell_type": "markdown",
      "metadata": {
        "id": "wZLx33Hb12Ba",
        "colab_type": "text"
      },
      "source": [
        "**model.summary()**로 모델의 요약을 볼 수 있습니다. 다음과 같이 출력이 되어야 합니다."
      ]
    },
    {
      "cell_type": "code",
      "metadata": {
        "id": "mHNntEYN10hI",
        "colab_type": "code",
        "colab": {
          "base_uri": "https://localhost:8080/",
          "height": 190
        },
        "outputId": "1de7fb86-ffc8-4bd9-bcc6-b823fd44418f"
      },
      "source": [
        "model.summary()"
      ],
      "execution_count": null,
      "outputs": [
        {
          "output_type": "stream",
          "text": [
            "Model: \"sequential_1\"\n",
            "_________________________________________________________________\n",
            "Layer (type)                 Output Shape              Param #   \n",
            "=================================================================\n",
            "dense_1 (Dense)              (None, 1)                 2         \n",
            "=================================================================\n",
            "Total params: 2\n",
            "Trainable params: 2\n",
            "Non-trainable params: 0\n",
            "_________________________________________________________________\n"
          ],
          "name": "stdout"
        }
      ]
    },
    {
      "cell_type": "markdown",
      "metadata": {
        "id": "H81PDsWpzzUq",
        "colab_type": "text"
      },
      "source": [
        "## STEP 4. 컴파일 (Compile)"
      ]
    },
    {
      "cell_type": "markdown",
      "metadata": {
        "id": "pzT_sVFn18m-",
        "colab_type": "text"
      },
      "source": [
        "`optimizer`와 `loss`를 지정합니다.\n",
        "\n",
        "* `optimizer`는 **'sgd'(Stochastic Gradient Descent)**를 지정합니다.\n",
        "* `loss`는 **'mse'**를 지정합니다.\n"
      ]
    },
    {
      "cell_type": "code",
      "metadata": {
        "id": "VTfV5zp7z3E-",
        "colab_type": "code",
        "colab": {}
      },
      "source": [
        "# 코드를 입력 하세요\n"
      ],
      "execution_count": null,
      "outputs": []
    },
    {
      "cell_type": "markdown",
      "metadata": {
        "id": "ES79kZ_Ez7kX",
        "colab_type": "text"
      },
      "source": [
        "## STEP 5. 학습 (fit)"
      ]
    },
    {
      "cell_type": "markdown",
      "metadata": {
        "id": "Nc2o9pdk2T-_",
        "colab_type": "text"
      },
      "source": [
        "`fit`을 통해 모델을 학습합니다. \n",
        "* xs, ys를 지정합니다.\n",
        "* `epochs`를 지정합니다.\n",
        "* `verbose`를 0으로 지정하여, 로그 출력이 너무 많이 출력되지 않도록 합니다. "
      ]
    },
    {
      "cell_type": "code",
      "metadata": {
        "id": "4bpm-IxMz9VC",
        "colab_type": "code",
        "colab": {}
      },
      "source": [
        "# 코드를 입력 하세요\n"
      ],
      "execution_count": null,
      "outputs": []
    },
    {
      "cell_type": "markdown",
      "metadata": {
        "id": "8XPPMaoCz_Bf",
        "colab_type": "text"
      },
      "source": [
        "## STEP 6. 검증 (predict)"
      ]
    },
    {
      "cell_type": "markdown",
      "metadata": {
        "id": "gVEJVmaY2loA",
        "colab_type": "text"
      },
      "source": [
        "아래의 코드로 잘 예측되는 모델이 완성되었는지 검증합니다. \n",
        "\n",
        "시험에서는 **예측(model.predict)은 진행하지 않습니다.**\n",
        "\n",
        "* 다음과 같이 출력되어야 합니다."
      ]
    },
    {
      "cell_type": "code",
      "metadata": {
        "id": "LirmgGpp0SUA",
        "colab_type": "code",
        "colab": {
          "base_uri": "https://localhost:8080/",
          "height": 35
        },
        "outputId": "ade1028d-cbf1-4992-a523-68ba185e8ef8"
      },
      "source": [
        "model.predict([10.0])"
      ],
      "execution_count": null,
      "outputs": [
        {
          "output_type": "execute_result",
          "data": {
            "text/plain": [
              "array([[16.000046]], dtype=float32)"
            ]
          },
          "metadata": {
            "tags": []
          },
          "execution_count": 6
        }
      ]
    },
    {
      "cell_type": "markdown",
      "metadata": {
        "id": "7avjNvK826lq",
        "colab_type": "text"
      },
      "source": [
        "-------------------------------------------------------------------------"
      ]
    },
    {
      "cell_type": "markdown",
      "metadata": {
        "id": "7A2PEHhe3MBE",
        "colab_type": "text"
      },
      "source": [
        "## 실제 시험에서는..."
      ]
    },
    {
      "cell_type": "markdown",
      "metadata": {
        "id": "FfbQ8J2e3OEj",
        "colab_type": "text"
      },
      "source": [
        "실제 시험에 대한 예시입니다.\n",
        "\n",
        "**[유의사항]**\n",
        "\n",
        "* 아래의 `def solution_model()`안에 우리가 작성한 코드의 흐름에 맞춰 코드를 채워야 합니다.\n",
        "* 실제 시험에서는 `model.predict()`는 진행하지 않습니다. (Submit and Test Model로 검증하면 됩니다.)\n",
        "* 반드시 solution_model() 함수안에서는 indent 규칙을 잘 지켜주시기 바랍니다."
      ]
    },
    {
      "cell_type": "markdown",
      "metadata": {
        "id": "kt8PnJPY0aLs",
        "colab_type": "text"
      },
      "source": [
        "### 실전문제 (문제 예시)"
      ]
    },
    {
      "cell_type": "code",
      "metadata": {
        "id": "c3Kh4ujU0bk1",
        "colab_type": "code",
        "colab": {}
      },
      "source": [
        "# ======================================================================\n",
        "# There are 5 questions in this test with increasing difficulty from 1-5\n",
        "# Please note that the weight of the grade for the question is relative\n",
        "# to its difficulty. So your Category 1 question will score much less\n",
        "# than your Category 5 question.\n",
        "# ======================================================================\n",
        "#\n",
        "# Getting Started Question\n",
        "#\n",
        "# Given this data, train a neural network to match the xs to the ys\n",
        "# So that a predictor for a new value of X will give a float value\n",
        "# very close to the desired answer\n",
        "# i.e. print(model.predict([10.0])) would give a satisfactory result\n",
        "# The test infrastructure expects a trained model that accepts\n",
        "# an input shape of [1]\n",
        "\n",
        "import numpy as np\n",
        "\n",
        "\n",
        "def solution_model():\n",
        "    xs = np.array([-1.0, 0.0, 1.0, 2.0, 3.0, 4.0], dtype=float)\n",
        "    ys = np.array([5.0, 6.0, 7.0, 8.0, 9.0, 10.0], dtype=float)\n",
        "\n",
        "    # YOUR CODE HERE\n",
        "\n",
        "\n",
        "    \n",
        "    \n",
        "    return model\n",
        "\n",
        "\n",
        "# Note that you'll need to save your model as a .h5 like this\n",
        "# This .h5 will be uploaded to the testing infrastructure\n",
        "# and a score will be returned to you\n",
        "if __name__ == '__main__':\n",
        "    model = solution_model()\n",
        "    model.save(\"mymodel.h5\")\n"
      ],
      "execution_count": null,
      "outputs": []
    },
    {
      "cell_type": "markdown",
      "metadata": {
        "id": "cbwGEgcYl4vz",
        "colab_type": "text"
      },
      "source": [
        "### 실전문제 (답안 예시)"
      ]
    },
    {
      "cell_type": "code",
      "metadata": {
        "id": "PaYGuZQKl4vz",
        "colab_type": "code",
        "colab": {},
        "outputId": "1de21df2-a833-4cd9-edf8-1e8160f796cd"
      },
      "source": [
        "# ======================================================================\n",
        "# There are 5 questions in this test with increasing difficulty from 1-5\n",
        "# Please note that the weight of the grade for the question is relative\n",
        "# to its difficulty. So your Category 1 question will score much less\n",
        "# than your Category 5 question.\n",
        "# ======================================================================\n",
        "#\n",
        "# Getting Started Question\n",
        "#\n",
        "# Given this data, train a neural network to match the xs to the ys\n",
        "# So that a predictor for a new value of X will give a float value\n",
        "# very close to the desired answer\n",
        "# i.e. print(model.predict([10.0])) would give a satisfactory result\n",
        "# The test infrastructure expects a trained model that accepts\n",
        "# an input shape of [1]\n",
        "\n",
        "import numpy as np\n",
        "from tensorflow.keras.layers import Dense\n",
        "from tensorflow.keras.models import Sequential\n",
        "\n",
        "\n",
        "def solution_model():\n",
        "    xs = np.array([-1.0, 0.0, 1.0, 2.0, 3.0, 4.0], dtype=float)\n",
        "    ys = np.array([5.0, 6.0, 7.0, 8.0, 9.0, 10.0], dtype=float)\n",
        "\n",
        "    # YOUR CODE HERE\n",
        "    model=Sequential([\n",
        "        Dense(1,input_shape=[1])\n",
        "    ])\n",
        "\n",
        "    model.compile(optimizer=\"sgd\", loss=\"mse\")\n",
        "    \n",
        "    model.fit(xs, ys, epochs=1600, verbose=0)\n",
        "    \n",
        "    return model\n",
        "\n",
        "\n",
        "# Note that you'll need to save your model as a .h5 like this\n",
        "# This .h5 will be uploaded to the testing infrastructure\n",
        "# and a score will be returned to you\n",
        "if __name__ == '__main__':\n",
        "    model = solution_model()\n",
        "    model.save(\"mymodel.h5\")\n",
        "    print(model.predict([10.0]))"
      ],
      "execution_count": null,
      "outputs": [
        {
          "output_type": "execute_result",
          "data": {
            "text/plain": [
              "array([[16.000046]], dtype=float32)"
            ]
          },
          "metadata": {
            "tags": []
          },
          "execution_count": 5
        }
      ]
    }
  ]
}